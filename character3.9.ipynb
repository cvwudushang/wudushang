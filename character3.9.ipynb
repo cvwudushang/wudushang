{
 "cells": [
  {
   "cell_type": "code",
   "execution_count": 1,
   "metadata": {
    "collapsed": true
   },
   "outputs": [
    {
     "name": "stdout",
     "output_type": "stream",
     "text": [
      "success\n"
     ]
    }
   ],
   "source": [
    "import numpy as np\n",
    "import torch\n",
    "import d2lzh_pytorch as d2l\n",
    "print(\"success\")\n"
   ]
  },
  {
   "cell_type": "code",
   "execution_count": 2,
   "outputs": [],
   "source": [
    "num_input,num_hide,num_output=784,256,10\n",
    "batch_size=256\n",
    "train_iter,test_iter=d2l.load_data_fashion_mnist(batch_size)"
   ],
   "metadata": {
    "collapsed": false,
    "pycharm": {
     "name": "#%%\n"
    }
   }
  },
  {
   "cell_type": "code",
   "execution_count": 3,
   "outputs": [],
   "source": [
    "W1=torch.tensor(np.random.normal(0,0.01,(num_input,num_hide)),dtype=torch.float,requires_grad=True)\n",
    "b1=torch.zeros(num_hide,dtype=torch.float,requires_grad=True)\n",
    "W2=torch.tensor(np.random.normal(0,0.01,(num_hide,num_output)),dtype=torch.float,requires_grad=True)\n",
    "b2=torch.zeros(num_output,dtype=torch.float,requires_grad=True)\n",
    "params=[W1,b1,W2,b2]"
   ],
   "metadata": {
    "collapsed": false,
    "pycharm": {
     "name": "#%%\n"
    }
   }
  },
  {
   "cell_type": "code",
   "execution_count": 4,
   "outputs": [
    {
     "name": "stdout",
     "output_type": "stream",
     "text": [
      "epoch 1, loss 0.0031, train acc 0.713, test acc 0.789\n",
      "epoch 2, loss 0.0019, train acc 0.822, test acc 0.776\n",
      "epoch 3, loss 0.0017, train acc 0.844, test acc 0.838\n",
      "epoch 4, loss 0.0015, train acc 0.855, test acc 0.826\n",
      "epoch 5, loss 0.0014, train acc 0.865, test acc 0.845\n"
     ]
    }
   ],
   "source": [
    "def relu(X):\n",
    "    return torch.max(input=X,other=torch.tensor(0.0))\n",
    "def net(X):\n",
    "    X=X.view(-1,num_input)\n",
    "    H=relu(torch.matmul(X,W1)+b1)\n",
    "    return torch.matmul(H,W2)+b2\n",
    "loss=torch.nn.CrossEntropyLoss()\n",
    "num_epochs=5\n",
    "lr=100\n",
    "d2l.train_ch3(net,train_iter,test_iter,loss,num_epochs,batch_size,params,lr)\n"
   ],
   "metadata": {
    "collapsed": false,
    "pycharm": {
     "name": "#%%\n"
    }
   }
  }
 ],
 "metadata": {
  "kernelspec": {
   "display_name": "Python 3",
   "language": "python",
   "name": "python3"
  },
  "language_info": {
   "codemirror_mode": {
    "name": "ipython",
    "version": 2
   },
   "file_extension": ".py",
   "mimetype": "text/x-python",
   "name": "python",
   "nbconvert_exporter": "python",
   "pygments_lexer": "ipython2",
   "version": "2.7.6"
  }
 },
 "nbformat": 4,
 "nbformat_minor": 0
}