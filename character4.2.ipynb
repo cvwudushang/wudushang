{
 "cells": [
  {
   "cell_type": "code",
   "execution_count": 11,
   "metadata": {
    "collapsed": true
   },
   "outputs": [
    {
     "name": "stdout",
     "output_type": "stream",
     "text": [
      "success\n"
     ]
    }
   ],
   "source": [
    "import torch\n",
    "from torch import nn\n",
    "from torch.nn import init\n",
    "print(\"success\")"
   ]
  },
  {
   "cell_type": "code",
   "execution_count": 5,
   "outputs": [
    {
     "name": "stdout",
     "output_type": "stream",
     "text": [
      "Sequential(\n",
      "  (0): Linear(in_features=4, out_features=10, bias=True)\n",
      "  (1): ReLU()\n",
      "  (2): Linear(in_features=10, out_features=1, bias=True)\n",
      ")\n",
      "tensor(-1.1629, grad_fn=<SumBackward0>)\n"
     ]
    }
   ],
   "source": [
    "net=nn.Sequential(nn.Linear(4,10),nn.ReLU(),nn.Linear(10,1))\n",
    "print(net)\n",
    "X=torch.rand(10,4)\n",
    "Y=net(X).sum()\n",
    "print(Y)"
   ],
   "metadata": {
    "collapsed": false,
    "pycharm": {
     "name": "#%%\n"
    }
   }
  },
  {
   "cell_type": "code",
   "execution_count": 13,
   "outputs": [
    {
     "name": "stdout",
     "output_type": "stream",
     "text": [
      "<class 'generator'>\n",
      "0.weight torch.Size([10, 4])\n",
      "0.bias torch.Size([10])\n",
      "2.weight torch.Size([1, 10])\n",
      "2.bias torch.Size([1])\n",
      "torch.Size([10, 4])\n",
      "torch.Size([10])\n",
      "torch.Size([1, 10])\n",
      "torch.Size([1])\n",
      "0.weight tensor([[ 0.0017,  0.0040,  0.0127, -0.0168],\n",
      "        [-0.0102, -0.0112, -0.0112, -0.0007],\n",
      "        [-0.0022, -0.0034, -0.0086,  0.0039],\n",
      "        [-0.0059, -0.0119, -0.0051, -0.0068],\n",
      "        [-0.0039, -0.0141, -0.0195,  0.0138],\n",
      "        [ 0.0061, -0.0091,  0.0047, -0.0151],\n",
      "        [ 0.0051,  0.0028, -0.0056, -0.0029],\n",
      "        [ 0.0007, -0.0076,  0.0028, -0.0239],\n",
      "        [-0.0142,  0.0059, -0.0038,  0.0096],\n",
      "        [ 0.0021, -0.0092, -0.0176,  0.0214]])\n",
      "2.weight tensor([[ 0.0028,  0.0035, -0.0051,  0.0018,  0.0095,  0.0006,  0.0161,  0.0166,\n",
      "         -0.0035, -0.0142]])\n"
     ]
    }
   ],
   "source": [
    "print(type(net.named_parameters()))\n",
    "for name,param in net.named_parameters():\n",
    "    print(name,param.size())\n",
    "for param in net.parameters():\n",
    "    print(param.size())\n",
    "for name,param in net.named_parameters():\n",
    "    if 'weight' in name:\n",
    "        init.normal_(param,mean=0,std=0.01)\n",
    "        print(name,param.data)\n"
   ],
   "metadata": {
    "collapsed": false,
    "pycharm": {
     "name": "#%%\n"
    }
   }
  },
  {
   "cell_type": "code",
   "execution_count": 16,
   "outputs": [
    {
     "name": "stdout",
     "output_type": "stream",
     "text": [
      "0.weight tensor([[ 7.3737, -0.0000, -0.0000, -0.0000],\n",
      "        [ 0.0000,  0.0000,  0.0000,  0.0000],\n",
      "        [ 0.0000, -7.5770, -8.1210,  6.2317],\n",
      "        [ 8.3482, -6.8152, -5.5732,  5.6984],\n",
      "        [-0.0000, -0.0000,  9.5925, -0.0000],\n",
      "        [-0.0000,  0.0000, -0.0000,  5.5976],\n",
      "        [-0.0000,  5.3861,  0.0000,  0.0000],\n",
      "        [-0.0000, -0.0000, -8.6166,  0.0000],\n",
      "        [-8.2651, -0.0000, -9.8351, -6.5597],\n",
      "        [ 0.0000,  0.0000, -0.0000,  0.0000]])\n",
      "2.weight tensor([[ 6.9907, -8.0144, -0.0000,  0.0000, -0.0000,  8.4277, -0.0000,  8.4313,\n",
      "          9.9912,  0.0000]])\n"
     ]
    }
   ],
   "source": [
    "def init_weight_(tensor):\n",
    "    with torch.no_grad():\n",
    "        tensor.uniform_(-10,10)\n",
    "        tensor*=(tensor.abs()>=5).float()\n",
    "for name,param in net.named_parameters():\n",
    "    if 'weight' in name:\n",
    "        init_weight_(param)\n",
    "        print(name,param.data)\n",
    "\n"
   ],
   "metadata": {
    "collapsed": false,
    "pycharm": {
     "name": "#%%\n"
    }
   }
  }
 ],
 "metadata": {
  "kernelspec": {
   "display_name": "Python 3",
   "language": "python",
   "name": "python3"
  },
  "language_info": {
   "codemirror_mode": {
    "name": "ipython",
    "version": 2
   },
   "file_extension": ".py",
   "mimetype": "text/x-python",
   "name": "python",
   "nbconvert_exporter": "python",
   "pygments_lexer": "ipython2",
   "version": "2.7.6"
  }
 },
 "nbformat": 4,
 "nbformat_minor": 0
}