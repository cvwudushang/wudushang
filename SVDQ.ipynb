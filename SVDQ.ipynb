{
 "cells": [
  {
   "cell_type": "code",
   "execution_count": 2,
   "metadata": {
    "collapsed": true
   },
   "outputs": [],
   "source": [
    "import cv2\n",
    "import numpy as np"
   ]
  },
  {
   "cell_type": "code",
   "execution_count": 9,
   "outputs": [
    {
     "data": {
      "text/plain": "True"
     },
     "execution_count": 9,
     "metadata": {},
     "output_type": "execute_result"
    }
   ],
   "source": [
    "#读取图片\n",
    "img = cv2.imread(\"lena.jpg\",cv2.IMREAD_UNCHANGED)\n",
    "img_height=600\n",
    "img_width=601\n",
    "img_channels=3\n",
    "#设置高斯分布的均值和方差\n",
    "mean = 0\n",
    "#设置高斯分布的标准差\n",
    "sigma = 25\n",
    "#根据均值和标准差生成符合高斯分布的噪声\n",
    "gauss = np.random.normal(mean,sigma,(img_height,img_width,img_channels))\n",
    "#给图片添加高斯噪声\n",
    "# print(img.dtype)\n",
    "noisy_img = img + gauss\n",
    "#设置图片添加高斯噪声之后的像素值的范围\n",
    "noisy_img = np.clip(noisy_img,a_min=0,a_max=255)\n",
    "#保存图片\n",
    "cv2.imwrite(\"noisy_img.png\",noisy_img)\n",
    "\n",
    "\n"
   ],
   "metadata": {
    "collapsed": false,
    "pycharm": {
     "name": "#%%\n"
    }
   }
  }
 ],
 "metadata": {
  "kernelspec": {
   "display_name": "Python 3",
   "language": "python",
   "name": "python3"
  },
  "language_info": {
   "codemirror_mode": {
    "name": "ipython",
    "version": 2
   },
   "file_extension": ".py",
   "mimetype": "text/x-python",
   "name": "python",
   "nbconvert_exporter": "python",
   "pygments_lexer": "ipython2",
   "version": "2.7.6"
  }
 },
 "nbformat": 4,
 "nbformat_minor": 0
}