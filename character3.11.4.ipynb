{
 "cells": [
  {
   "cell_type": "code",
   "execution_count": 2,
   "metadata": {
    "collapsed": true
   },
   "outputs": [
    {
     "name": "stdout",
     "output_type": "stream",
     "text": [
      "success\n"
     ]
    }
   ],
   "source": [
    "import numpy as np\n",
    "import torch\n",
    "import torch.nn as nn\n",
    "import d2lzh_pytorch as d2l\n",
    "print(\"success\")"
   ]
  },
  {
   "cell_type": "code",
   "execution_count": 5,
   "outputs": [],
   "source": [
    "n_traib,n_test,num_input=20,10,200\n",
    "true_w,true_b=torch.ones(num_input,1)*0.01,0.05\n",
    "features=torch.randn((n_traib+n_test,num_input))\n",
    "labels=torch.matmul(features,true_w)+torch.tensor(np.random.normal(scale=0.01,loc=0,size=(n_test+n_traib,1)),dtype=torch.float)\n",
    "test_features,train_features=features[:n_test,:],features[n_test:,:]\n",
    "test_labels,train_labels=labels[:n_test],labels[n_test:]\n",
    "\n"
   ],
   "metadata": {
    "collapsed": false,
    "pycharm": {
     "name": "#%%\n"
    }
   }
  },
  {
   "cell_type": "code",
   "execution_count": null,
   "outputs": [],
   "source": [
    "def fit_add_plot_pytorch(wd):\n",
    "    net=nn.Linear(num_input,1)\n",
    "    nn.init.normal_(net.weight,mean=0,std=0.01)\n",
    "    \n",
    "\n"
   ],
   "metadata": {
    "collapsed": false,
    "pycharm": {
     "name": "#%%\n"
    }
   }
  }
 ],
 "metadata": {
  "kernelspec": {
   "display_name": "Python 3",
   "language": "python",
   "name": "python3"
  },
  "language_info": {
   "codemirror_mode": {
    "name": "ipython",
    "version": 2
   },
   "file_extension": ".py",
   "mimetype": "text/x-python",
   "name": "python",
   "nbconvert_exporter": "python",
   "pygments_lexer": "ipython2",
   "version": "2.7.6"
  }
 },
 "nbformat": 4,
 "nbformat_minor": 0
}