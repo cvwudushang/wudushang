{
 "cells": [
  {
   "cell_type": "code",
   "execution_count": 25,
   "metadata": {
    "collapsed": true
   },
   "outputs": [
    {
     "data": {
      "text/plain": "3.0"
     },
     "execution_count": 25,
     "metadata": {},
     "output_type": "execute_result"
    }
   ],
   "source": [
    "class Solution(object):\n",
    "    def __init__(self):\n",
    "        self.sum=0\n",
    "        return\n",
    "    def ways(self, pizza, k):\n",
    "        \"\"\"\n",
    "        :type pizza: List[str]\n",
    "        :type k: int\n",
    "        :rtype: int\n",
    "        \"\"\"\n",
    "        for ite in pizza:\n",
    "            for ch in ite:\n",
    "                if ch=='A':\n",
    "                    self.sum=self.sum+1\n",
    "        if k==1 and self.sum!=0:\n",
    "            return 1\n",
    "        elif k==1 and self.sum==0:\n",
    "            return 0\n",
    "        else:\n",
    "            return self.answer(k)\n",
    "    def answer(self,k):\n",
    "        i=self.sum-k\n",
    "        n=1\n",
    "\n",
    "\n",
    "        for j in range(i):\n",
    "            n=n*(k-j)\n",
    "\n",
    "        for j in range(i):\n",
    "            n=n/(j+1)\n",
    "        return n\n",
    "\n",
    "\n",
    "\n",
    "\n",
    "pizza=[\"A..\",\"AAA\",\"...\"]\n",
    "a=Solution()\n",
    "a.ways(pizza=pizza,k=3)\n",
    "\n",
    "\n"
   ]
  }
 ],
 "metadata": {
  "kernelspec": {
   "display_name": "Python 3",
   "language": "python",
   "name": "python3"
  },
  "language_info": {
   "codemirror_mode": {
    "name": "ipython",
    "version": 2
   },
   "file_extension": ".py",
   "mimetype": "text/x-python",
   "name": "python",
   "nbconvert_exporter": "python",
   "pygments_lexer": "ipython2",
   "version": "2.7.6"
  }
 },
 "nbformat": 4,
 "nbformat_minor": 0
}