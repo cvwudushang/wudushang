{
 "cells": [
  {
   "cell_type": "code",
   "execution_count": 1,
   "metadata": {
    "collapsed": true
   },
   "outputs": [
    {
     "name": "stdout",
     "output_type": "stream",
     "text": [
      "success\n"
     ]
    }
   ],
   "source": [
    "import numpy as np\n",
    "import torch\n",
    "from torch import nn\n",
    "import d2lzh_pytorch as d2l\n",
    "from torch.nn import init\n",
    "print(\"success\")\n",
    "\n"
   ]
  },
  {
   "cell_type": "code",
   "execution_count": 5,
   "outputs": [],
   "source": [
    "num_inputs=784\n",
    "num_outputs=10\n",
    "num_hide=256\n",
    "net=nn.Sequential(\n",
    "    d2l.FlattenLayer(),\n",
    "    nn.Linear(num_inputs,num_hide),\n",
    "    nn.ReLU(),\n",
    "    nn.Linear(num_hide,num_outputs),\n",
    ")\n",
    "for param in net.parameters():\n",
    "    init.normal_(param,std=0.01,mean=0)\n",
    "\n"
   ],
   "metadata": {
    "collapsed": false,
    "pycharm": {
     "name": "#%%\n"
    }
   }
  },
  {
   "cell_type": "code",
   "execution_count": 6,
   "outputs": [
    {
     "name": "stdout",
     "output_type": "stream",
     "text": [
      "epoch 1, loss 0.0063, train acc 0.399, test acc 0.520\n",
      "epoch 2, loss 0.0035, train acc 0.669, test acc 0.724\n",
      "epoch 3, loss 0.0028, train acc 0.723, test acc 0.749\n",
      "epoch 4, loss 0.0025, train acc 0.750, test acc 0.762\n",
      "epoch 5, loss 0.0024, train acc 0.765, test acc 0.773\n"
     ]
    }
   ],
   "source": [
    "batch_size=256\n",
    "test_iter,train_iter=d2l.load_data_fashion_mnist(batch_size=batch_size)\n",
    "loss=torch.nn.CrossEntropyLoss()\n",
    "optimzer=torch.optim.SGD(net.parameters(),lr=0.5)\n",
    "num_epochs=5\n",
    "d2l.train_ch3(net,train_iter,test_iter,loss,num_epochs,batch_size,None,None,optimzer)\n",
    "\n",
    "\n"
   ],
   "metadata": {
    "collapsed": false,
    "pycharm": {
     "name": "#%%\n"
    }
   }
  }
 ],
 "metadata": {
  "kernelspec": {
   "display_name": "Python 3",
   "language": "python",
   "name": "python3"
  },
  "language_info": {
   "codemirror_mode": {
    "name": "ipython",
    "version": 2
   },
   "file_extension": ".py",
   "mimetype": "text/x-python",
   "name": "python",
   "nbconvert_exporter": "python",
   "pygments_lexer": "ipython2",
   "version": "2.7.6"
  }
 },
 "nbformat": 4,
 "nbformat_minor": 0
}